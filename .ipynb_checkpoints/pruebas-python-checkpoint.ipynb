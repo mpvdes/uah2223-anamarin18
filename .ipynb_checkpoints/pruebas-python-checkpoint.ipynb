{
 "cells": [
  {
   "cell_type": "markdown",
   "id": "f80cb7ec",
   "metadata": {},
   "source": [
    "# Pruebas con Python"
   ]
  },
  {
   "cell_type": "code",
   "execution_count": null,
   "id": "423b5af4",
   "metadata": {},
   "outputs": [],
   "source": [
    "pip install pandas"
   ]
  },
  {
   "cell_type": "code",
   "execution_count": null,
   "id": "1ff68297",
   "metadata": {},
   "outputs": [],
   "source": []
  }
 ],
 "metadata": {
  "kernelspec": {
   "display_name": "Python 3 (ipykernel)",
   "language": "python",
   "name": "python3"
  },
  "language_info": {
   "codemirror_mode": {
    "name": "ipython",
    "version": 3
   },
   "file_extension": ".py",
   "mimetype": "text/x-python",
   "name": "python",
   "nbconvert_exporter": "python",
   "pygments_lexer": "ipython3",
   "version": "3.11.1"
  }
 },
 "nbformat": 4,
 "nbformat_minor": 5
}
