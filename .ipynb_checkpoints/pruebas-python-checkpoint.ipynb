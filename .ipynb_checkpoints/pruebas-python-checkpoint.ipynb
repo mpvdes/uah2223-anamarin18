{
 "cells": [
  {
   "cell_type": "markdown",
   "id": "a092c6a9",
   "metadata": {},
   "source": [
    "# Pruebas con Python"
   ]
  },
  {
   "cell_type": "code",
   "execution_count": 2,
   "id": "fdef6101",
   "metadata": {},
   "outputs": [
    {
     "name": "stdout",
     "output_type": "stream",
     "text": [
      "Requirement already satisfied: pandas in c:\\users\\ana\\appdata\\local\\programs\\python\\python311\\lib\\site-packages (1.5.2)\n",
      "Requirement already satisfied: python-dateutil>=2.8.1 in c:\\users\\ana\\appdata\\local\\programs\\python\\python311\\lib\\site-packages (from pandas) (2.8.2)\n",
      "Requirement already satisfied: pytz>=2020.1 in c:\\users\\ana\\appdata\\local\\programs\\python\\python311\\lib\\site-packages (from pandas) (2022.7.1)\n",
      "Requirement already satisfied: numpy>=1.21.0 in c:\\users\\ana\\appdata\\local\\programs\\python\\python311\\lib\\site-packages (from pandas) (1.24.1)\n",
      "Requirement already satisfied: six>=1.5 in c:\\users\\ana\\appdata\\local\\programs\\python\\python311\\lib\\site-packages (from python-dateutil>=2.8.1->pandas) (1.16.0)\n",
      "Note: you may need to restart the kernel to use updated packages.\n"
     ]
    }
   ],
   "source": [
    "pip install pandas"
   ]
  },
  {
   "cell_type": "code",
   "execution_count": 11,
   "id": "fce32983",
   "metadata": {},
   "outputs": [
    {
     "name": "stdout",
     "output_type": "stream",
     "text": [
      "Python 3.11.1\n"
     ]
    }
   ],
   "source": [
    "!python --version"
   ]
  },
  {
   "cell_type": "code",
   "execution_count": 10,
   "id": "6fb0faa0",
   "metadata": {},
   "outputs": [
    {
     "name": "stdout",
     "output_type": "stream",
     "text": [
      " El volumen de la unidad C es Windows\n",
      " El n£mero de serie del volumen es: AE36-4EF8\n",
      "\n",
      " Directorio de C:\\Users\\Ana\\Documents\\mpvd\\uah2223-anamarin18\n",
      "\n",
      "18/01/2023  22:04    <DIR>          .\n",
      "18/01/2023  22:04    <DIR>          ..\n",
      "18/01/2023  21:58    <DIR>          .git\n",
      "18/01/2023  22:03    <DIR>          .ipynb_checkpoints\n",
      "18/01/2023  19:41             2.205 charla-alba-martin.md\n",
      "18/01/2023  18:18                59 charla-asuncion-bernardez.md\n",
      "13/01/2023  13:18             1.245 prueba-github.md\n",
      "17/12/2022  00:49             4.477 prueba-markdown.md\n",
      "18/01/2023  22:04               890 pruebas python.ipynb\n",
      "13/01/2023  12:44             2.987 prueba-terminal.md\n",
      "11/01/2023  21:08               325 README.md\n",
      "               7 archivos         12.188 bytes\n",
      "               4 dirs  26.094.690.304 bytes libres\n"
     ]
    }
   ],
   "source": [
    "ls"
   ]
  }
 ],
 "metadata": {
  "kernelspec": {
   "display_name": "Python 3 (ipykernel)",
   "language": "python",
   "name": "python3"
  },
  "language_info": {
   "codemirror_mode": {
    "name": "ipython",
    "version": 3
   },
   "file_extension": ".py",
   "mimetype": "text/x-python",
   "name": "python",
   "nbconvert_exporter": "python",
   "pygments_lexer": "ipython3",
   "version": "3.11.1"
  }
 },
 "nbformat": 4,
 "nbformat_minor": 5
}
